{
 "cells": [
  {
   "cell_type": "code",
   "execution_count": 1,
   "metadata": {},
   "outputs": [],
   "source": [
    "import numpy as np\n",
    "import pandas as pd\n",
    "import matplotlib.pyplot as plt\n",
    "import sys\n",
    "import os\n",
    "\n",
    "import utils"
   ]
  },
  {
   "cell_type": "markdown",
   "metadata": {},
   "source": [
    "### Clean file from error runs"
   ]
  },
  {
   "cell_type": "code",
   "execution_count": 3,
   "metadata": {},
   "outputs": [],
   "source": [
    "fix_path = \"../time/batch_sizes\"\n",
    "with open(fix_path) as f:\n",
    "        fix_text = f.read()\n",
    "runs = fix_text.split(\"--------------------------------------------------------------\\n\")\n",
    "new_text = \"\"\n",
    "for run in runs:\n",
    "        if \"hconcat\" not in run and \"ERROR: Could not open '\" not in run:\n",
    "            new_text += \"--------------------------------------------------------------\\n\"\n",
    "            new_text += run\n",
    "with open(fix_path, \"w\") as f:\n",
    "    f.write(new_text)"
   ]
  },
  {
   "cell_type": "markdown",
   "metadata": {},
   "source": [
    "### Get input"
   ]
  },
  {
   "cell_type": "code",
   "execution_count": 4,
   "metadata": {},
   "outputs": [
    {
     "name": "stdout",
     "output_type": "stream",
     "text": [
      "Number of runs: 118\n"
     ]
    }
   ],
   "source": [
    "dir = \"/home/sara/Documents/Master-thesis/TFLite/time\"\n",
    "files = os.listdir(dir)\n",
    "\n",
    "text = \"\"\n",
    "for file in files:\n",
    "    path = os.path.join(dir, file)\n",
    "    with open(path) as f:\n",
    "        text += f.read()\n",
    "\n",
    "runs = text.split(\"--------------------------------------------------------------\\n\")\n",
    "print(f\"Number of runs: {len(runs)}\")"
   ]
  },
  {
   "cell_type": "code",
   "execution_count": 5,
   "metadata": {},
   "outputs": [],
   "source": [
    "headers = [\"Iterations\", \"Type\", \"Precision\", \"Size\", \"Model\", \"Batch size\", \"Nr threads\", \"Device\", \"Method\", \"Verbose\", \"Invoke\", \"Status\", \n",
    "            \"Preprocess (s)\", \"Preprocess (min)\",\n",
    "            \"Inference (s)\", \"Inference (min)\",\n",
    "            \"Init (s)\", \"Load image (s)\", \"Tile image (s)\", \n",
    "            \"Load input (s)\", \"Load input once (s)\", \n",
    "            \"Detect (s)\", \"Detect once (s)\", \n",
    "            \"Get output (s)\", \"Get output once (s)\", \n",
    "            \"Total (s)\", \"Total (min)\"]"
   ]
  },
  {
   "cell_type": "code",
   "execution_count": 6,
   "metadata": {},
   "outputs": [
    {
     "name": "stderr",
     "output_type": "stream",
     "text": [
      "/home/sara/anaconda3/envs/master/lib/python3.7/site-packages/numpy/lib/function_base.py:380: RuntimeWarning: Mean of empty slice.\n",
      "  avg = a.mean(axis)\n",
      "/home/sara/anaconda3/envs/master/lib/python3.7/site-packages/numpy/core/_methods.py:189: RuntimeWarning: invalid value encountered in double_scalars\n",
      "  ret = ret.dtype.type(ret / rcount)\n"
     ]
    },
    {
     "data": {
      "text/html": [
       "<div>\n",
       "<style scoped>\n",
       "    .dataframe tbody tr th:only-of-type {\n",
       "        vertical-align: middle;\n",
       "    }\n",
       "\n",
       "    .dataframe tbody tr th {\n",
       "        vertical-align: top;\n",
       "    }\n",
       "\n",
       "    .dataframe thead th {\n",
       "        text-align: right;\n",
       "    }\n",
       "</style>\n",
       "<table border=\"1\" class=\"dataframe\">\n",
       "  <thead>\n",
       "    <tr style=\"text-align: right;\">\n",
       "      <th></th>\n",
       "      <th>Iterations</th>\n",
       "      <th>Type</th>\n",
       "      <th>Precision</th>\n",
       "      <th>Size</th>\n",
       "      <th>Model</th>\n",
       "      <th>Batch size</th>\n",
       "      <th>Nr threads</th>\n",
       "      <th>Device</th>\n",
       "      <th>Method</th>\n",
       "      <th>Verbose</th>\n",
       "      <th>...</th>\n",
       "      <th>Load image (s)</th>\n",
       "      <th>Tile image (s)</th>\n",
       "      <th>Load input (s)</th>\n",
       "      <th>Load input once (s)</th>\n",
       "      <th>Detect (s)</th>\n",
       "      <th>Detect once (s)</th>\n",
       "      <th>Get output (s)</th>\n",
       "      <th>Get output once (s)</th>\n",
       "      <th>Total (s)</th>\n",
       "      <th>Total (min)</th>\n",
       "    </tr>\n",
       "  </thead>\n",
       "  <tbody>\n",
       "    <tr>\n",
       "      <th>0</th>\n",
       "      <td>3</td>\n",
       "      <td>class_models</td>\n",
       "      <td>1</td>\n",
       "      <td>32</td>\n",
       "      <td>32-fp16.tflite</td>\n",
       "      <td>1</td>\n",
       "      <td>1</td>\n",
       "      <td>1</td>\n",
       "      <td>3</td>\n",
       "      <td>0</td>\n",
       "      <td>...</td>\n",
       "      <td>238.669568</td>\n",
       "      <td>3.977826</td>\n",
       "      <td>17.274756</td>\n",
       "      <td>0.000176</td>\n",
       "      <td>221.220656</td>\n",
       "      <td>0.002258</td>\n",
       "      <td>0.174164</td>\n",
       "      <td>0.000001</td>\n",
       "      <td>392.962901</td>\n",
       "      <td>6.549382</td>\n",
       "    </tr>\n",
       "    <tr>\n",
       "      <th>1</th>\n",
       "      <td>3</td>\n",
       "      <td>class_models</td>\n",
       "      <td>1</td>\n",
       "      <td>192</td>\n",
       "      <td>192-fp16.tflite</td>\n",
       "      <td>1</td>\n",
       "      <td>1</td>\n",
       "      <td>1</td>\n",
       "      <td>3</td>\n",
       "      <td>0</td>\n",
       "      <td>...</td>\n",
       "      <td>45.377708</td>\n",
       "      <td>0.756295</td>\n",
       "      <td>19.141034</td>\n",
       "      <td>0.006814</td>\n",
       "      <td>26.232288</td>\n",
       "      <td>0.009338</td>\n",
       "      <td>0.004387</td>\n",
       "      <td>0.000001</td>\n",
       "      <td>102.468428</td>\n",
       "      <td>1.707807</td>\n",
       "    </tr>\n",
       "    <tr>\n",
       "      <th>2</th>\n",
       "      <td>3</td>\n",
       "      <td>class_models</td>\n",
       "      <td>1</td>\n",
       "      <td>480</td>\n",
       "      <td>480-fp16.tflite</td>\n",
       "      <td>1</td>\n",
       "      <td>1</td>\n",
       "      <td>1</td>\n",
       "      <td>3</td>\n",
       "      <td>0</td>\n",
       "      <td>...</td>\n",
       "      <td>38.478024</td>\n",
       "      <td>0.641300</td>\n",
       "      <td>19.779178</td>\n",
       "      <td>0.044850</td>\n",
       "      <td>18.696582</td>\n",
       "      <td>0.042395</td>\n",
       "      <td>0.002263</td>\n",
       "      <td>0.000005</td>\n",
       "      <td>88.531464</td>\n",
       "      <td>1.475524</td>\n",
       "    </tr>\n",
       "    <tr>\n",
       "      <th>3</th>\n",
       "      <td>3</td>\n",
       "      <td>class_models</td>\n",
       "      <td>1</td>\n",
       "      <td>288</td>\n",
       "      <td>288-fp16.tflite</td>\n",
       "      <td>1</td>\n",
       "      <td>1</td>\n",
       "      <td>1</td>\n",
       "      <td>3</td>\n",
       "      <td>0</td>\n",
       "      <td>...</td>\n",
       "      <td>37.874264</td>\n",
       "      <td>0.631238</td>\n",
       "      <td>19.212326</td>\n",
       "      <td>0.043565</td>\n",
       "      <td>18.659734</td>\n",
       "      <td>0.042312</td>\n",
       "      <td>0.002202</td>\n",
       "      <td>0.000005</td>\n",
       "      <td>87.727245</td>\n",
       "      <td>1.462121</td>\n",
       "    </tr>\n",
       "    <tr>\n",
       "      <th>4</th>\n",
       "      <td>3</td>\n",
       "      <td>class_models</td>\n",
       "      <td>1</td>\n",
       "      <td>672</td>\n",
       "      <td>672-fp16.tflite</td>\n",
       "      <td>1</td>\n",
       "      <td>1</td>\n",
       "      <td>1</td>\n",
       "      <td>3</td>\n",
       "      <td>0</td>\n",
       "      <td>...</td>\n",
       "      <td>35.854568</td>\n",
       "      <td>0.597576</td>\n",
       "      <td>17.156830</td>\n",
       "      <td>0.076252</td>\n",
       "      <td>18.696590</td>\n",
       "      <td>0.083096</td>\n",
       "      <td>0.001147</td>\n",
       "      <td>0.000005</td>\n",
       "      <td>84.597841</td>\n",
       "      <td>1.409964</td>\n",
       "    </tr>\n",
       "    <tr>\n",
       "      <th>...</th>\n",
       "      <td>...</td>\n",
       "      <td>...</td>\n",
       "      <td>...</td>\n",
       "      <td>...</td>\n",
       "      <td>...</td>\n",
       "      <td>...</td>\n",
       "      <td>...</td>\n",
       "      <td>...</td>\n",
       "      <td>...</td>\n",
       "      <td>...</td>\n",
       "      <td>...</td>\n",
       "      <td>...</td>\n",
       "      <td>...</td>\n",
       "      <td>...</td>\n",
       "      <td>...</td>\n",
       "      <td>...</td>\n",
       "      <td>...</td>\n",
       "      <td>...</td>\n",
       "      <td>...</td>\n",
       "      <td>...</td>\n",
       "      <td>...</td>\n",
       "    </tr>\n",
       "    <tr>\n",
       "      <th>110</th>\n",
       "      <td>3</td>\n",
       "      <td>class_models</td>\n",
       "      <td>1</td>\n",
       "      <td>768</td>\n",
       "      <td>768-fp16.tflite</td>\n",
       "      <td>1</td>\n",
       "      <td>5</td>\n",
       "      <td>0</td>\n",
       "      <td>2</td>\n",
       "      <td>0</td>\n",
       "      <td>...</td>\n",
       "      <td>29.819864</td>\n",
       "      <td>0.496998</td>\n",
       "      <td>1.127270</td>\n",
       "      <td>0.005751</td>\n",
       "      <td>28.691720</td>\n",
       "      <td>0.146386</td>\n",
       "      <td>0.000874</td>\n",
       "      <td>0.000004</td>\n",
       "      <td>47.606325</td>\n",
       "      <td>0.793439</td>\n",
       "    </tr>\n",
       "    <tr>\n",
       "      <th>111</th>\n",
       "      <td>3</td>\n",
       "      <td>class_models</td>\n",
       "      <td>1</td>\n",
       "      <td>1152</td>\n",
       "      <td>1152-fp16.tflite</td>\n",
       "      <td>1</td>\n",
       "      <td>5</td>\n",
       "      <td>0</td>\n",
       "      <td>2</td>\n",
       "      <td>0</td>\n",
       "      <td>...</td>\n",
       "      <td>27.955492</td>\n",
       "      <td>0.465925</td>\n",
       "      <td>1.043743</td>\n",
       "      <td>0.012885</td>\n",
       "      <td>26.911382</td>\n",
       "      <td>0.332239</td>\n",
       "      <td>0.000365</td>\n",
       "      <td>0.000004</td>\n",
       "      <td>44.819445</td>\n",
       "      <td>0.746991</td>\n",
       "    </tr>\n",
       "    <tr>\n",
       "      <th>112</th>\n",
       "      <td>3</td>\n",
       "      <td>class_models</td>\n",
       "      <td>1</td>\n",
       "      <td>1440</td>\n",
       "      <td>1440-fp16.tflite</td>\n",
       "      <td>1</td>\n",
       "      <td>5</td>\n",
       "      <td>0</td>\n",
       "      <td>2</td>\n",
       "      <td>0</td>\n",
       "      <td>...</td>\n",
       "      <td>26.378848</td>\n",
       "      <td>0.439647</td>\n",
       "      <td>0.996547</td>\n",
       "      <td>0.020337</td>\n",
       "      <td>25.382074</td>\n",
       "      <td>0.518001</td>\n",
       "      <td>0.000226</td>\n",
       "      <td>0.000004</td>\n",
       "      <td>42.457800</td>\n",
       "      <td>0.707630</td>\n",
       "    </tr>\n",
       "    <tr>\n",
       "      <th>113</th>\n",
       "      <td>3</td>\n",
       "      <td>class_models</td>\n",
       "      <td>1</td>\n",
       "      <td>2080</td>\n",
       "      <td>2080-fp16.tflite</td>\n",
       "      <td>1</td>\n",
       "      <td>5</td>\n",
       "      <td>0</td>\n",
       "      <td>2</td>\n",
       "      <td>0</td>\n",
       "      <td>...</td>\n",
       "      <td>NaN</td>\n",
       "      <td>NaN</td>\n",
       "      <td>NaN</td>\n",
       "      <td>NaN</td>\n",
       "      <td>NaN</td>\n",
       "      <td>NaN</td>\n",
       "      <td>NaN</td>\n",
       "      <td>NaN</td>\n",
       "      <td>NaN</td>\n",
       "      <td>NaN</td>\n",
       "    </tr>\n",
       "    <tr>\n",
       "      <th>114</th>\n",
       "      <td>3</td>\n",
       "      <td>class_models</td>\n",
       "      <td>1</td>\n",
       "      <td>3360</td>\n",
       "      <td>3360-fp16.tflite</td>\n",
       "      <td>1</td>\n",
       "      <td>5</td>\n",
       "      <td>0</td>\n",
       "      <td>2</td>\n",
       "      <td>0</td>\n",
       "      <td>...</td>\n",
       "      <td>27.765220</td>\n",
       "      <td>0.462754</td>\n",
       "      <td>2.596767</td>\n",
       "      <td>0.288529</td>\n",
       "      <td>25.168410</td>\n",
       "      <td>2.796490</td>\n",
       "      <td>0.000042</td>\n",
       "      <td>0.000004</td>\n",
       "      <td>44.641986</td>\n",
       "      <td>0.744033</td>\n",
       "    </tr>\n",
       "  </tbody>\n",
       "</table>\n",
       "<p>115 rows × 27 columns</p>\n",
       "</div>"
      ],
      "text/plain": [
       "    Iterations          Type Precision  Size             Model Batch size  \\\n",
       "0            3  class_models         1    32    32-fp16.tflite          1   \n",
       "1            3  class_models         1   192   192-fp16.tflite          1   \n",
       "2            3  class_models         1   480   480-fp16.tflite          1   \n",
       "3            3  class_models         1   288   288-fp16.tflite          1   \n",
       "4            3  class_models         1   672   672-fp16.tflite          1   \n",
       "..         ...           ...       ...   ...               ...        ...   \n",
       "110          3  class_models         1   768   768-fp16.tflite          1   \n",
       "111          3  class_models         1  1152  1152-fp16.tflite          1   \n",
       "112          3  class_models         1  1440  1440-fp16.tflite          1   \n",
       "113          3  class_models         1  2080  2080-fp16.tflite          1   \n",
       "114          3  class_models         1  3360  3360-fp16.tflite          1   \n",
       "\n",
       "    Nr threads Device Method Verbose  ... Load image (s) Tile image (s)  \\\n",
       "0            1      1      3       0  ...     238.669568       3.977826   \n",
       "1            1      1      3       0  ...      45.377708       0.756295   \n",
       "2            1      1      3       0  ...      38.478024       0.641300   \n",
       "3            1      1      3       0  ...      37.874264       0.631238   \n",
       "4            1      1      3       0  ...      35.854568       0.597576   \n",
       "..         ...    ...    ...     ...  ...            ...            ...   \n",
       "110          5      0      2       0  ...      29.819864       0.496998   \n",
       "111          5      0      2       0  ...      27.955492       0.465925   \n",
       "112          5      0      2       0  ...      26.378848       0.439647   \n",
       "113          5      0      2       0  ...            NaN            NaN   \n",
       "114          5      0      2       0  ...      27.765220       0.462754   \n",
       "\n",
       "     Load input (s)  Load input once (s)  Detect (s)  Detect once (s)  \\\n",
       "0         17.274756             0.000176  221.220656         0.002258   \n",
       "1         19.141034             0.006814   26.232288         0.009338   \n",
       "2         19.779178             0.044850   18.696582         0.042395   \n",
       "3         19.212326             0.043565   18.659734         0.042312   \n",
       "4         17.156830             0.076252   18.696590         0.083096   \n",
       "..              ...                  ...         ...              ...   \n",
       "110        1.127270             0.005751   28.691720         0.146386   \n",
       "111        1.043743             0.012885   26.911382         0.332239   \n",
       "112        0.996547             0.020337   25.382074         0.518001   \n",
       "113             NaN                  NaN         NaN              NaN   \n",
       "114        2.596767             0.288529   25.168410         2.796490   \n",
       "\n",
       "     Get output (s)  Get output once (s)   Total (s)  Total (min)  \n",
       "0          0.174164             0.000001  392.962901     6.549382  \n",
       "1          0.004387             0.000001  102.468428     1.707807  \n",
       "2          0.002263             0.000005   88.531464     1.475524  \n",
       "3          0.002202             0.000005   87.727245     1.462121  \n",
       "4          0.001147             0.000005   84.597841     1.409964  \n",
       "..              ...                  ...         ...          ...  \n",
       "110        0.000874             0.000004   47.606325     0.793439  \n",
       "111        0.000365             0.000004   44.819445     0.746991  \n",
       "112        0.000226             0.000004   42.457800     0.707630  \n",
       "113             NaN                  NaN         NaN          NaN  \n",
       "114        0.000042             0.000004   44.641986     0.744033  \n",
       "\n",
       "[115 rows x 27 columns]"
      ]
     },
     "execution_count": 6,
     "metadata": {},
     "output_type": "execute_result"
    }
   ],
   "source": [
    "value_list = []\n",
    "clean_log = \"\"\n",
    "for run in runs:\n",
    "    if \"SKIPPED\" not in run:\n",
    "        data = run.split(\"\\n\")\n",
    "        info = data[0].split(\",\")\n",
    "        if len(info) < 10:\n",
    "            continue\n",
    "        values = []\n",
    "        for i in info:\n",
    "            values.append(i.split(\":\")[1].strip())\n",
    "\n",
    "        if \"cv::Exception\" in run:\n",
    "            values.append(\"BROKEN\")\n",
    "        elif \"ERROR\" in run:\n",
    "            values.append(\"ERROR\")\n",
    "        elif \"amdgpu\" in run:\n",
    "            values.append(\"OUT OF MEMORY\")\n",
    "        elif \"Killed\" in run:\n",
    "            values.append(\"KILLED\")\n",
    "        elif \"Aborted\" in run:\n",
    "            values.append(\"ABORTED\")\n",
    "        else:\n",
    "            values.append(\"SUCCESS\")\n",
    "\n",
    "        total_times = []\n",
    "\n",
    "        for d in data:\n",
    "            if \"Duration\" in d:\n",
    "                total_times.append(int(d.split(\":\")[-1].strip()))\n",
    "            elif \"Preprocessing\" in d:\n",
    "                value = float(d.split(\":\")[-1].strip(\"us\").strip())\n",
    "                values.append((value)/1000000)\n",
    "                values.append((value)/1000000/60)\n",
    "            elif \"Inference\" in d:\n",
    "                value = float(d.split(\":\")[-1].strip(\"us\").strip())\n",
    "                values.append((value)/1000000)\n",
    "                values.append((value)/1000000/60)\n",
    "            elif \"Init\" in d and not \"Initialized\" in d and not \"TfLiteGpuDelegate Init\" in d:\n",
    "                value = float(d.split(\"(\")[-1].split(\",\")[0].strip())\n",
    "                values.append((value)/1000000)\n",
    "            elif \"Load image\" in d:\n",
    "                value = float(d.split(\"(\")[-1].split(\",\")[0].strip())\n",
    "                values.append((value)/1000000)\n",
    "            elif \"Tile image\" in d:\n",
    "                value = float(d.split(\"(\")[-1].split(\",\")[0].strip())\n",
    "                values.append((value)/1000000)\n",
    "            elif \"Load input\" in d:\n",
    "                parts = d.split(\"(\")\n",
    "                value = float(parts[1].split(\",\")[0].strip())\n",
    "                values.append((value)/1000000)\n",
    "                value = float(parts[2].split(\",\")[0].strip())\n",
    "                values.append((value)/1000000)\n",
    "            elif \"Detect\" in d:\n",
    "                parts = d.split(\"(\")\n",
    "                value = float(parts[1].split(\",\")[0].strip())\n",
    "                values.append((value)/1000000)\n",
    "                value = float(parts[2].split(\",\")[0].strip())\n",
    "                values.append((value)/1000000)\n",
    "            elif \"Get output\" in d:\n",
    "                parts = d.split(\"(\")\n",
    "                value = float(parts[1].split(\",\")[0].strip())\n",
    "                values.append((value)/1000000)\n",
    "                value = float(parts[2].split(\",\")[0].strip())\n",
    "                values.append((value)/1000000)\n",
    "\n",
    "        \n",
    "        # Total time\n",
    "        values.append(np.average(total_times)/1000000)\n",
    "        values.append(np.average(total_times)/1000000/60)\n",
    "\n",
    "\n",
    "        value_list.append(values)\n",
    "\n",
    "\n",
    "run_df = pd.DataFrame(value_list, columns=headers)\n",
    "run_df"
   ]
  },
  {
   "cell_type": "markdown",
   "metadata": {},
   "source": [
    "## Methods"
   ]
  },
  {
   "cell_type": "code",
   "execution_count": 5,
   "metadata": {},
   "outputs": [
    {
     "name": "stdout",
     "output_type": "stream",
     "text": [
      "Average diff: 16.57157473214286\n"
     ]
    },
    {
     "data": {
      "image/png": "[encoded data removed]",
      "text/plain": [
       "<Figure size 504x360 with 1 Axes>"
      ]
     },
     "metadata": {
      "needs_background": "light"
     },
     "output_type": "display_data"
    }
   ],
   "source": [
    "method2 = run_df[(run_df['Method']==\"2\") & \n",
    "                    (run_df['Device']==\"0\") & \n",
    "                    (run_df['Type']==\"yolo_models\") & \n",
    "                    (run_df['Precision']==\"1\") &\n",
    "                    #(run_df['Size']==\"768\") &\n",
    "                    (run_df['Nr threads']==\"1\") &\n",
    "                    (run_df['Batch size']==\"1\")]\n",
    "method3 = run_df[(run_df['Method']==\"3\") & \n",
    "                    (run_df['Device']==\"0\") & \n",
    "                    (run_df['Type']==\"yolo_models\") & \n",
    "                    (run_df['Precision']==\"1\") &\n",
    "                    #(run_df['Size']==\"768\") &\n",
    "                    (run_df['Nr threads']==\"1\") &\n",
    "                    (run_df['Batch size']==\"1\")]\n",
    "\n",
    "data = [method2, method3]\n",
    "legends = [\"Method 2\", \"Method 3\"]\n",
    "\n",
    "utils.plot_multi(data, legends, x_label = \"Size\", y_label = \"Load input (s)\", title = \"Method 2 vs 3\", plot_diff=True)"
   ]
  },
  {
   "cell_type": "code",
   "execution_count": null,
   "metadata": {},
   "outputs": [],
   "source": []
  },
  {
   "cell_type": "markdown",
   "metadata": {},
   "source": [
    "# Class"
   ]
  },
  {
   "cell_type": "markdown",
   "metadata": {},
   "source": [
    "### Multithreading"
   ]
  },
  {
   "cell_type": "code",
   "execution_count": 7,
   "metadata": {},
   "outputs": [],
   "source": [
    "multithreading_df = run_df[(run_df['Method']==\"2\") & \n",
    "                    (run_df['Device']==\"0\") & \n",
    "                    (run_df['Type']==\"class_models\") & \n",
    "                    (run_df['Precision']==\"1\") &\n",
    "                    (run_df['Size']!=\"2080\") &\n",
    "                    #(run_df['Nr threads']==\"1\") &\n",
    "                    (run_df['Batch size']==\"1\")]\n",
    "del multithreading_df[\"Precision\"]\n",
    "del multithreading_df[\"Type\"]\n",
    "del multithreading_df[\"Status\"]\n",
    "del multithreading_df[\"Invoke\"]\n",
    "del multithreading_df[\"Method\"]\n",
    "del multithreading_df[\"Verbose\"]\n",
    "del multithreading_df[\"Device\"]\n",
    "del multithreading_df[\"Model\"]\n",
    "del multithreading_df[\"Batch size\"]\n",
    "del multithreading_df[\"Iterations\"]\n",
    "#display(multithreading_df)\n"
   ]
  },
  {
   "cell_type": "code",
   "execution_count": 8,
   "metadata": {},
   "outputs": [
    {
     "data": {
      "image/png": "[encoded data removed]",
      "text/plain": [
       "<Figure size 504x360 with 1 Axes>"
      ]
     },
     "metadata": {
      "needs_background": "light"
     },
     "output_type": "display_data"
    }
   ],
   "source": [
    "data =[]\n",
    "legends = multithreading_df[\"Size\"].unique()\n",
    "for d in legends:\n",
    "    df_part = multithreading_df[multithreading_df[\"Size\"]==d]\n",
    "    data.append(df_part)\n",
    "\n",
    "\n",
    "utils.plot_multi(data, legends, x_label = \"Nr threads\", y_label = \"Inference (min)\", title = \"Multithreading\", plot_diff=False)\n"
   ]
  },
  {
   "cell_type": "markdown",
   "metadata": {},
   "source": [
    "### Batch sizes"
   ]
  },
  {
   "cell_type": "code",
   "execution_count": 33,
   "metadata": {},
   "outputs": [
    {
     "name": "stderr",
     "output_type": "stream",
     "text": [
      "/home/sara/anaconda3/envs/master/lib/python3.7/site-packages/ipykernel_launcher.py:14: UserWarning: Boolean Series key will be reindexed to match DataFrame index.\n",
      "  \n",
      "/home/sara/anaconda3/envs/master/lib/python3.7/site-packages/ipykernel_launcher.py:15: UserWarning: Boolean Series key will be reindexed to match DataFrame index.\n",
      "  from ipykernel import kernelapp as app\n"
     ]
    }
   ],
   "source": [
    "bs_df = run_df[(run_df['Method']==\"3\") & \n",
    "                    #(run_df['Device']==\"1\") & \n",
    "                    (run_df['Type']==\"class_models\") & \n",
    "                    (run_df['Precision']==\"1\") &\n",
    "                    (run_df['Size']!=\"32\") & \n",
    "                    (run_df['Size']!=\"192\") & \n",
    "                    (run_df['Size']!=\"480\") & \n",
    "                    (run_df['Size']!=\"1152\") & \n",
    "                    (run_df['Size']!=\"768\") & \n",
    "                    (run_df['Size']!=\"1440\") & \n",
    "                    (run_df['Size']!=\"3360\") & \n",
    "                    #(run_df['Batch size']==\"1\") &\n",
    "                    (run_df['Nr threads']==\"1\")]\n",
    "bs_CPU_df = bs_df[(run_df['Device']==\"0\")]\n",
    "bs_GPU_df = bs_df[(run_df['Device']==\"1\")]\n"
   ]
  },
  {
   "cell_type": "code",
   "execution_count": 34,
   "metadata": {},
   "outputs": [
    {
     "data": {
      "image/png": "[encoded data removed]",
      "text/plain": [
       "<Figure size 504x360 with 1 Axes>"
      ]
     },
     "metadata": {
      "needs_background": "light"
     },
     "output_type": "display_data"
    }
   ],
   "source": [
    "data =[]\n",
    "legends = bs_GPU_df[\"Size\"].unique()\n",
    "for d in legends:\n",
    "    df_part = bs_GPU_df[bs_GPU_df[\"Size\"]==d]\n",
    "    data.append(df_part)\n",
    "\n",
    "\n",
    "utils.plot_multi(data, legends, x_label = \"Batch size\", y_label = \"Inference (min)\", title = \"Batch sizes\", plot_diff=False)"
   ]
  },
  {
   "cell_type": "code",
   "execution_count": 36,
   "metadata": {},
   "outputs": [
    {
     "data": {
      "image/png": "[encoded data removed]",
      "text/plain": [
       "<Figure size 504x360 with 1 Axes>"
      ]
     },
     "metadata": {
      "needs_background": "light"
     },
     "output_type": "display_data"
    }
   ],
   "source": [
    "data =[]\n",
    "legends = bs_CPU_df[\"Size\"].unique()\n",
    "for d in legends:\n",
    "    df_part = bs_CPU_df[bs_CPU_df[\"Size\"]==d]\n",
    "    data.append(df_part)\n",
    "\n",
    "\n",
    "utils.plot_multi(data, legends, x_label = \"Batch size\", y_label = \"Inference (min)\", title = \"Batch sizes\", plot_diff=False)"
   ]
  },
  {
   "cell_type": "markdown",
   "metadata": {},
   "source": [
    "### CPU"
   ]
  },
  {
   "cell_type": "code",
   "execution_count": 35,
   "metadata": {},
   "outputs": [
    {
     "ename": "TypeError",
     "evalue": "'>' not supported between instances of 'str' and 'int'",
     "output_type": "error",
     "traceback": [
      "\u001b[0;31m---------------------------------------------------------------------------\u001b[0m",
      "\u001b[0;31mTypeError\u001b[0m                                 Traceback (most recent call last)",
      "\u001b[0;32m<ipython-input-35-78fbf2904bd2>\u001b[0m in \u001b[0;36m<module>\u001b[0;34m\u001b[0m\n\u001b[1;32m     10\u001b[0m \u001b[0mdata\u001b[0m \u001b[0;34m=\u001b[0m\u001b[0;34m[\u001b[0m\u001b[0mruns_CPU\u001b[0m\u001b[0;34m]\u001b[0m\u001b[0;34m\u001b[0m\u001b[0;34m\u001b[0m\u001b[0m\n\u001b[1;32m     11\u001b[0m \u001b[0mlegends\u001b[0m \u001b[0;34m=\u001b[0m \u001b[0;34m[\u001b[0m\u001b[0;34m\"Inference (min)\"\u001b[0m\u001b[0;34m]\u001b[0m\u001b[0;34m\u001b[0m\u001b[0;34m\u001b[0m\u001b[0m\n\u001b[0;32m---> 12\u001b[0;31m \u001b[0mutils\u001b[0m\u001b[0;34m.\u001b[0m\u001b[0mplot_multi\u001b[0m\u001b[0;34m(\u001b[0m\u001b[0mdata\u001b[0m\u001b[0;34m,\u001b[0m \u001b[0mlegends\u001b[0m\u001b[0;34m,\u001b[0m \u001b[0mx_label\u001b[0m \u001b[0;34m=\u001b[0m \u001b[0;34m\"Size\"\u001b[0m\u001b[0;34m,\u001b[0m \u001b[0my_label\u001b[0m \u001b[0;34m=\u001b[0m \u001b[0mlegends\u001b[0m\u001b[0;34m,\u001b[0m \u001b[0mtitle\u001b[0m \u001b[0;34m=\u001b[0m \u001b[0;34m\"CPU Classification\"\u001b[0m\u001b[0;34m,\u001b[0m \u001b[0mplot_diff\u001b[0m\u001b[0;34m=\u001b[0m\u001b[0;32mFalse\u001b[0m\u001b[0;34m)\u001b[0m\u001b[0;34m\u001b[0m\u001b[0;34m\u001b[0m\u001b[0m\n\u001b[0m\u001b[1;32m     13\u001b[0m \u001b[0mprint\u001b[0m\u001b[0;34m(\u001b[0m\u001b[0;34mf\"Average time{np.average(runs_CPU[legends[0]])}\"\u001b[0m\u001b[0;34m)\u001b[0m\u001b[0;34m\u001b[0m\u001b[0;34m\u001b[0m\u001b[0m\n",
      "\u001b[0;32m~/Documents/Master-thesis/TFLite/python/utils.py\u001b[0m in \u001b[0;36mplot_multi\u001b[0;34m(data, legends, x_label, y_label, title, plot_diff)\u001b[0m\n\u001b[1;32m    176\u001b[0m     \u001b[0;32mfor\u001b[0m \u001b[0md\u001b[0m \u001b[0;32min\u001b[0m \u001b[0mdata\u001b[0m\u001b[0;34m:\u001b[0m\u001b[0;34m\u001b[0m\u001b[0;34m\u001b[0m\u001b[0m\n\u001b[1;32m    177\u001b[0m         \u001b[0md\u001b[0m\u001b[0;34m.\u001b[0m\u001b[0mplot\u001b[0m\u001b[0;34m(\u001b[0m\u001b[0mx\u001b[0m\u001b[0;34m=\u001b[0m\u001b[0mx_label\u001b[0m\u001b[0;34m,\u001b[0m \u001b[0my\u001b[0m\u001b[0;34m=\u001b[0m\u001b[0my_label\u001b[0m\u001b[0;34m,\u001b[0m \u001b[0mkind\u001b[0m \u001b[0;34m=\u001b[0m \u001b[0;34m'line'\u001b[0m\u001b[0;34m,\u001b[0m \u001b[0max\u001b[0m\u001b[0;34m=\u001b[0m\u001b[0max\u001b[0m\u001b[0;34m)\u001b[0m\u001b[0;34m\u001b[0m\u001b[0;34m\u001b[0m\u001b[0m\n\u001b[0;32m--> 178\u001b[0;31m         \u001b[0mmax_y\u001b[0m \u001b[0;34m=\u001b[0m \u001b[0mmax\u001b[0m\u001b[0;34m(\u001b[0m\u001b[0mmax_y\u001b[0m\u001b[0;34m,\u001b[0m \u001b[0mmax\u001b[0m\u001b[0;34m(\u001b[0m\u001b[0md\u001b[0m\u001b[0;34m[\u001b[0m\u001b[0my_label\u001b[0m\u001b[0;34m]\u001b[0m\u001b[0;34m)\u001b[0m\u001b[0;34m)\u001b[0m\u001b[0;34m\u001b[0m\u001b[0;34m\u001b[0m\u001b[0m\n\u001b[0m\u001b[1;32m    179\u001b[0m         \u001b[0mmin_y\u001b[0m \u001b[0;34m=\u001b[0m \u001b[0mmin\u001b[0m\u001b[0;34m(\u001b[0m\u001b[0mmin_y\u001b[0m\u001b[0;34m,\u001b[0m \u001b[0mmin\u001b[0m\u001b[0;34m(\u001b[0m\u001b[0md\u001b[0m\u001b[0;34m[\u001b[0m\u001b[0my_label\u001b[0m\u001b[0;34m]\u001b[0m\u001b[0;34m)\u001b[0m\u001b[0;34m)\u001b[0m\u001b[0;34m\u001b[0m\u001b[0;34m\u001b[0m\u001b[0m\n\u001b[1;32m    180\u001b[0m \u001b[0;34m\u001b[0m\u001b[0m\n",
      "\u001b[0;31mTypeError\u001b[0m: '>' not supported between instances of 'str' and 'int'"
     ]
    },
    {
     "data": {
      "image/png": "[encoded data removed]",
      "text/plain": [
       "<Figure size 504x360 with 1 Axes>"
      ]
     },
     "metadata": {
      "needs_background": "light"
     },
     "output_type": "display_data"
    }
   ],
   "source": [
    "runs_CPU = run_df[(run_df['Method']==\"2\") & \n",
    "                    (run_df['Device']==\"0\") & \n",
    "                    (run_df['Type']==\"yolo_models\") & \n",
    "                    (run_df['Precision']==\"1\") &\n",
    "                    #(run_df['Size']==\"768\") &\n",
    "                    (run_df['Nr threads']==\"1\") &\n",
    "                    (run_df['Batch size']==\"1\")]\n",
    "\n",
    "\n",
    "data =[runs_CPU]\n",
    "legends = [\"Inference (min)\"]\n",
    "utils.plot_multi(data, legends, x_label = \"Size\", y_label = legends, title = \"CPU Classification\", plot_diff=False)\n",
    "print(f\"Average time{np.average(runs_CPU[legends[0]])}\")"
   ]
  },
  {
   "cell_type": "code",
   "execution_count": null,
   "metadata": {},
   "outputs": [],
   "source": [
    "legends = [\"Tile image (s)\"]\n",
    "utils.plot_multi(data, legends, x_label = \"Size\", y_label = legends, title = \"CPU Classification\", plot_diff=False)"
   ]
  },
  {
   "cell_type": "code",
   "execution_count": null,
   "metadata": {},
   "outputs": [],
   "source": [
    "legends = [\"Load inputs (s)\"]\n",
    "utils.plot_multi(data, legends, x_label = \"Size\", y_label = legends, title = \"CPU Classification\", plot_diff=False)"
   ]
  }
 ],
 "metadata": {
  "interpreter": {
   "hash": "183b0f8ce73dacaa42f1974bca33c4be1e696327158103aff23c1635ce5bf913"
  },
  "kernelspec": {
   "display_name": "Python 3.7.9 ('master')",
   "language": "python",
   "name": "python3"
  },
  "language_info": {
   "codemirror_mode": {
    "name": "ipython",
    "version": 3
   },
   "file_extension": ".py",
   "mimetype": "text/x-python",
   "name": "python",
   "nbconvert_exporter": "python",
   "pygments_lexer": "ipython3",
   "version": "3.7.9"
  },
  "orig_nbformat": 4
 },
 "nbformat": 4,
 "nbformat_minor": 2
}
